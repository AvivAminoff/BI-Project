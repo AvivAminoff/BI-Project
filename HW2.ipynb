{
  "nbformat": 4,
  "nbformat_minor": 0,
  "metadata": {
    "colab": {
      "provenance": []
    },
    "kernelspec": {
      "name": "python3",
      "display_name": "Python 3"
    },
    "language_info": {
      "name": "python"
    }
  },
  "cells": [
    {
      "cell_type": "code",
      "execution_count": null,
      "metadata": {
        "id": "T1H60qJO866L"
      },
      "outputs": [],
      "source": [
        "!pip install jsonpath_ng"
      ]
    },
    {
      "cell_type": "markdown",
      "source": [
        "**Imports**"
      ],
      "metadata": {
        "id": "iwbrbuOH9Av2"
      }
    },
    {
      "cell_type": "code",
      "source": [
        "import os\n",
        "import csv\n",
        "import json\n",
        "import numpy as np \n",
        "import pandas as pd \n",
        "import sqlite3\n",
        "import functools as ft\n",
        "import matplotlib.pyplot as plt\n",
        "from abc import ABC, abstractmethod\n",
        "from jsonpath_ng import parse\n",
        "from enum import Enum\n",
        "%matplotlib inline "
      ],
      "metadata": {
        "id": "0toLn3vU8-t3"
      },
      "execution_count": null,
      "outputs": []
    },
    {
      "cell_type": "markdown",
      "source": [
        "**get data**"
      ],
      "metadata": {
        "id": "tkSscWV-9K0o"
      }
    },
    {
      "cell_type": "code",
      "source": [
        "with open(\"FIT (1).json\", \"r\") as file:\n",
        "    data = json.loads(json.load(file))\n",
        "    for item in data:\n",
        "        item[\"id\"] = str(item[\"id\"])\n",
        "        item[\"important\"] = str(item[\"important\"])\n",
        "data "
      ],
      "metadata": {
        "id": "pB8m_VuE8--5"
      },
      "execution_count": null,
      "outputs": []
    },
    {
      "cell_type": "markdown",
      "source": [
        "**Interface**"
      ],
      "metadata": {
        "id": "nCuDP3s39UYq"
      }
    },
    {
      "cell_type": "code",
      "source": [
        "class Interface(ABC):\n",
        "\n",
        "    @abstractmethod\n",
        "    def get_data_by_field(self, field_name):\n",
        "        \"\"\"Fetch the data by given feild name \"\"\"\n",
        "\n",
        "    @abstractmethod\n",
        "    def get_data_by_id(self, id):\n",
        "        \"\"\"Fetch the data by given ID  \"\"\"\n",
        "  \n",
        "    @abstractmethod\n",
        "    def get(self):\n",
        "        \"\"\"Fetch all data \"\"\""
      ],
      "metadata": {
        "id": "1e_-EoAe8_BR"
      },
      "execution_count": null,
      "outputs": []
    },
    {
      "cell_type": "markdown",
      "source": [
        "**Transform Mask**"
      ],
      "metadata": {
        "id": "YMg3mv4Y9YT1"
      }
    },
    {
      "cell_type": "code",
      "source": [
        "class TransformMask(Enum):\n",
        "    CLEAN_STRING = \".strip().lower()\" \n",
        "    CAPITAL_LETTER = \".strip().lower().title()\"    "
      ],
      "metadata": {
        "id": "rmO4LMy18_Dd"
      },
      "execution_count": null,
      "outputs": []
    },
    {
      "cell_type": "markdown",
      "source": [
        "Class - DB"
      ],
      "metadata": {
        "id": "vAEPolfT9eCF"
      }
    },
    {
      "cell_type": "code",
      "source": [
        "class Database:\n",
        "    def __init__(self):\n",
        "        self.db= {\"source\":[],\"destination\":[],\"transform\":[],\"mapping\": []  }\n",
        "\n",
        "        self.add_source(1,'id',\"str\")\n",
        "        self.add_source(2,'important',\"str\")\n",
        "\n",
        "        self.add_destination(1,\"ID\",\"str\")\n",
        "        self.add_destination(2,\"How much training is important to you from 1 - 5 \",\"str\")\n",
        "\n",
        "        self.add_transform(1,'CLEAN_STRING')\n",
        "        self.add_transform(2,'CAPITAL_LETTER')\n",
        "\n",
        "        self.add_mapping(1,1,1,2)\n",
        "        self.add_mapping(2,2,2,1)\n",
        "\n",
        "    def add_source(self,id, field,ty):\n",
        "        if ty not in [\"str\"]:\n",
        "          print(\"Error source.\")\n",
        "        self.db[\"source\"].append( {\"id\": id,\n",
        "        \"source_field_name\":field ,\n",
        "          \"source_field_mapping\": \"$.\"+field,\n",
        "          \"source_field_type\": ty, # use python types\n",
        "          \"is_required\": True})\n",
        "       \n",
        "\n",
        "    def add_destination(self,id, field,ty):\n",
        "        if ty not in [\"BOOL\",\"str\"]:\n",
        "          print(\"Error destination.\")\n",
        "        self.db[\"destination\"].append(\n",
        "            {         \"id\": id,\n",
        "                      \"destination_field_name\": field,\n",
        "                      \"destination_field_mapping\": field,\n",
        "                      \"destination_field_type\": ty,\n",
        "                      \"default_value\": \"n/a\",\n",
        "                  })\n",
        "        \n",
        "    def add_transform(self,id, transform_mask):\n",
        "        self.db[\"transform\"].append({\n",
        "                      \"id\": id,\n",
        "                      \"transform_mask\": transform_mask\n",
        "                  })\n",
        "        \n",
        "\n",
        "    def add_mapping(self,id, mapping_source,mapping_destination,mapping_transform):\n",
        "        self.db[\"mapping\"].append({\n",
        "                      \"id\": id,\n",
        "                      \"mapping_source\": mapping_source,\n",
        "                      \"mapping_destination\": mapping_destination,\n",
        "                      \"mapping_transform\": mapping_transform\n",
        "                  })\n",
        "\n",
        "\n",
        "\n",
        "    @property \n",
        "    def get_data_source_target_mapping(self):\n",
        "        return self.db \n",
        "\n",
        "\n",
        "  "
      ],
      "metadata": {
        "id": "4hWmuznm9dYf"
      },
      "execution_count": null,
      "outputs": []
    },
    {
      "cell_type": "markdown",
      "source": [
        "**Source**"
      ],
      "metadata": {
        "id": "eYgb5E-Z9l0O"
      }
    },
    {
      "cell_type": "code",
      "source": [
        "class Source(Interface, Database):\n",
        "    def __init__(self):\n",
        "        Database.__init__(self)\n",
        "       \n",
        "    # should be implemented - inherited from Interface\n",
        "    def get_data_by_field(self, field_name):\n",
        "        data = self.get\n",
        "        for item in data:\n",
        "            for key, value in item.items():\n",
        "                if key == field_name:\n",
        "                    return item\n",
        "        return None\n",
        "\n",
        "    @property\n",
        "    def get(self):\n",
        "        return self.get_data_source_target_mapping.get(\"source\")\n",
        "\n",
        "    \n",
        "    def get_data_by_id(self, id):\n",
        "      self.id = id\n",
        "      data = self.get\n",
        "      for x in data:\n",
        "          if x.get(\"id\").__str__() == self.id.__str__():\n",
        "              return x\n",
        "      return None\n",
        "\n",
        " \n"
      ],
      "metadata": {
        "id": "5AbqdK3y9c55"
      },
      "execution_count": null,
      "outputs": []
    },
    {
      "cell_type": "markdown",
      "source": [
        "**Target**"
      ],
      "metadata": {
        "id": "XKoMKWQh9pk6"
      }
    },
    {
      "cell_type": "code",
      "source": [
        "class Target(Interface, Database):\n",
        "\n",
        "    def __init__(self):\n",
        "        Database.__init__(self)\n",
        "\n",
        "    # # should be implemented - inherited from Interface\n",
        "    def get_data_by_field(self, field_name):\n",
        "        data = self.get\n",
        "        for item in data:\n",
        "            for key, value in item.items():\n",
        "                if key == field_name:\n",
        "                    return item\n",
        "        return None\n",
        "\n",
        "    @property\n",
        "    def get(self):\n",
        "        return self.get_data_source_target_mapping.get(\"destination\")\n",
        "\n",
        "    def get_data_by_id(self, id):\n",
        "        self.id = id\n",
        "        data = self.get\n",
        "        for x in data:\n",
        "            if x.get(\"id\").__str__() == self.id.__str__():\n",
        "                return x\n",
        "        return None"
      ],
      "metadata": {
        "id": "ETAsgWbW8_GY"
      },
      "execution_count": null,
      "outputs": []
    },
    {
      "cell_type": "markdown",
      "source": [
        "**Transform**"
      ],
      "metadata": {
        "id": "4JCwLjCK9teW"
      }
    },
    {
      "cell_type": "code",
      "source": [
        "class Transform(Interface, Database):\n",
        "\n",
        "    def __init__(self):\n",
        "        Database.__init__(self)\n",
        "\n",
        "    # should be implemented - inherited from Interface\n",
        "    def get_data_by_field(self, field_name):\n",
        "        data = self.get\n",
        "        for item in data:\n",
        "            for key, value in item.items():\n",
        "                if key == field_name:\n",
        "                    return item\n",
        "        return None\n",
        "\n",
        "    @property\n",
        "    def get(self):\n",
        "        return self.get_data_source_target_mapping.get(\"transform\", [])\n",
        "\n",
        "    def get_data_by_id(self, id):\n",
        "        self.id = id\n",
        "        data = self.get\n",
        "        for x in data:\n",
        "            if x.get(\"id\").__str__() == self.id.__str__():\n",
        "                return x\n",
        "        return None"
      ],
      "metadata": {
        "id": "KR_yCS9o8_IP"
      },
      "execution_count": null,
      "outputs": []
    },
    {
      "cell_type": "markdown",
      "source": [
        "**Mapping**"
      ],
      "metadata": {
        "id": "m7Q8opWN9xHz"
      }
    },
    {
      "cell_type": "code",
      "source": [
        "class Mappings(Interface, Database):\n",
        "\n",
        "    def __init__(self):\n",
        "        Database.__init__(self)\n",
        "\n",
        "    @property\n",
        "    def get(self):\n",
        "        return self.get_data_source_target_mapping.get(\"mapping\")\n",
        "\n",
        "    def get_data_by_id(self, id):\n",
        "        self.id = id\n",
        "        data = self.get\n",
        "        for x in data:\n",
        "            if x.get(\"id\").__str__() == self.id.__str__():\n",
        "                return x\n",
        "        return None\n",
        "\n",
        "    def get_data_by_field(self, field_name):\n",
        "        return None"
      ],
      "metadata": {
        "id": "UlattKcw8_Kf"
      },
      "execution_count": null,
      "outputs": []
    },
    {
      "cell_type": "markdown",
      "source": [
        "**Json Query**"
      ],
      "metadata": {
        "id": "KMDcsqXS90mP"
      }
    },
    {
      "cell_type": "code",
      "source": [
        "class JsonQuery:\n",
        "    def __init__(self, json_path, json_data):\n",
        "        self.json_path = json_path\n",
        "        self.json_data = json_data\n",
        "\n",
        "    def get(self):\n",
        "        jsonpath_expression = parse(self.json_path)\n",
        "        match = jsonpath_expression.find(self.json_data)\n",
        "        source_data_value = match[0].value\n",
        "        return source_data_value"
      ],
      "metadata": {
        "id": "o9lNUnDX8_Ml"
      },
      "execution_count": null,
      "outputs": []
    },
    {
      "cell_type": "markdown",
      "source": [
        "**Source to Target Mapping**"
      ],
      "metadata": {
        "id": "b-jcGixm95Fv"
      }
    },
    {
      "cell_type": "code",
      "source": [
        "class STTM:\n",
        "    def __init__(self, input_json):\n",
        "        self.input_json = input_json\n",
        "        self.mapping_instance = Mappings()\n",
        "        self.source_instance = Source()\n",
        "        self.destination_instance = Target()\n",
        "        self.transform_instance = Transform()\n",
        "        self.look_up_mask = {i.name: i.value for i in TransformMask}\n",
        "        self.json_data_transformed = {}\n",
        "\n",
        "    def _get_mapping_data(self):\n",
        "        return self.mapping_instance.get\n",
        "\n",
        "    def _get_mapping_source_data(self):\n",
        "        return self.source_instance.get\n",
        "\n",
        "    def get_transformed_data(self):\n",
        "\n",
        "        for mappings in self._get_mapping_data():\n",
        "\n",
        "            \"\"\"fetch the source mapping \"\"\"\n",
        "            mapping_source_id = mappings.get(\"mapping_source\")\n",
        "            mapping_destination_id = mappings.get(\"mapping_destination\")\n",
        "            mapping_transform_id = mappings.get(\"mapping_transform\")\n",
        "\n",
        "            mapping_source_data = self.source_instance.get_data_by_id(id=mapping_source_id)\n",
        "            transform_data = self.transform_instance.get_data_by_id(id=mapping_transform_id)\n",
        "\n",
        "            \"\"\"Fetch Source  field Name\"\"\"\n",
        "            source_field_name = mapping_source_data.get(\"source_field_name\")\n",
        "\n",
        "            \"\"\"if field given is not present incoming json \"\"\"\n",
        "            if source_field_name not in self.input_json.keys():\n",
        "                if mapping_source_data.get(\"is_required\"):\n",
        "                    raise Exception(\n",
        "                        \"Alert ! Field {} is not present in JSON please FIX mappings \".format(source_field_name))\n",
        "                else:\n",
        "                    pass\n",
        "\n",
        "            else:\n",
        "                source_data_value = JsonQuery(\n",
        "                    json_path=mapping_source_data.get(\"source_field_mapping\"),\n",
        "                    json_data=self.input_json\n",
        "                ).get()\n",
        "\n",
        "                \"\"\"check the data type for source if matches with what we have \"\"\"\n",
        "                if mapping_source_data.get(\"source_field_type\") != type(source_data_value).__name__:\n",
        "                    if source_data_value is not None:\n",
        "                        _message = (\n",
        "                            \"Alert ! Source Field :{} Datatype has changed from {} to {} \".format(source_field_name,\n",
        "                                                                                                  mapping_source_data.get(\n",
        "                                                                                                      \"source_field_type\"),\n",
        "                                                                                                  type(\n",
        "                                                                                                      source_data_value).__name__))\n",
        "                        print(_message)\n",
        "                        raise Exception(_message)\n",
        "\n",
        "                \"\"\"Query and fetch the Destination | target \"\"\"\n",
        "                destination_mappings_json_object = self.destination_instance.get_data_by_id(\n",
        "                    id=mappings.get(\"mapping_destination\"))\n",
        "\n",
        "                destination_field_name = destination_mappings_json_object.get(\"destination_field_name\")\n",
        "                destination_field_type = destination_mappings_json_object.get(\"destination_field_type\")\n",
        "\n",
        "                dtypes = [str, float, list, int, set, dict]\n",
        "\n",
        "                for dtype in dtypes:\n",
        "\n",
        "                    \"\"\"Datatype Conversion \"\"\"\n",
        "                    if destination_field_type == str(dtype.__name__):\n",
        "\n",
        "                        \"\"\"is source is none insert default value\"\"\"\n",
        "                        if source_data_value is None:\n",
        "                            self.json_data_transformed[destination_field_name] = dtype.__call__(\n",
        "                                destination_mappings_json_object.get(\"default_value\")\n",
        "                            )\n",
        "\n",
        "                        else:\n",
        "                            \"\"\"check if you have items to transform\"\"\"\n",
        "                            if transform_data is not None:\n",
        "                                \"\"\" check for invalid mask name \"\"\"\n",
        "                                if transform_data.get(\"transform_mask\") not in list(self.look_up_mask.keys()):\n",
        "                                    raise Exception(\n",
        "                                        f\"Specified Transform {transform_data.get('transform_mask')} is not available please select from following Options :{list(self.look_up_mask.keys())}\")\n",
        "                                else:\n",
        "                                    mask_apply = self.look_up_mask.get(transform_data.get(\"transform_mask\"))\n",
        "                                    converted_dtype = dtype.__call__(source_data_value)\n",
        "                                    mask = f'converted_dtype{mask_apply}'\n",
        "                                    curated_value = eval(mask)\n",
        "                                    self.json_data_transformed[destination_field_name] = curated_value\n",
        "\n",
        "                            else:\n",
        "                                self.json_data_transformed[destination_field_name] = dtype.__call__(source_data_value)\n",
        "\n",
        "        return self.json_data_transformed"
      ],
      "metadata": {
        "id": "feDjQW-Q970N"
      },
      "execution_count": null,
      "outputs": []
    },
    {
      "cell_type": "markdown",
      "source": [
        "**RUN**"
      ],
      "metadata": {
        "id": "R8GopVNJ-Uhx"
      }
    },
    {
      "cell_type": "code",
      "source": [
        "transformed_data = []\n",
        "for item in data:\n",
        "    helper = STTM(input_json=item)\n",
        "    response = helper.get_transformed_data()\n",
        "    transformed_data.append(response)\n",
        "    print(response)"
      ],
      "metadata": {
        "id": "R-vyQE2l-Lg_"
      },
      "execution_count": null,
      "outputs": []
    },
    {
      "cell_type": "markdown",
      "source": [
        "**Data frame**"
      ],
      "metadata": {
        "id": "USrnNuf7-cYs"
      }
    },
    {
      "cell_type": "code",
      "source": [
        "pd.DataFrame(transformed_data)"
      ],
      "metadata": {
        "id": "015j_8Oi-Tok"
      },
      "execution_count": null,
      "outputs": []
    }
  ]
}